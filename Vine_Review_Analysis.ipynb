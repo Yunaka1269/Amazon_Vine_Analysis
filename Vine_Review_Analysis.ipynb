{
  "nbformat": 4,
  "nbformat_minor": 0,
  "metadata": {
    "colab": {
      "name": "Vine_Review_Analysis.ipynb",
      "provenance": [],
      "collapsed_sections": []
    },
    "kernelspec": {
      "name": "python3",
      "display_name": "Python 3"
    }
  },
  "cells": [
    {
      "cell_type": "code",
      "metadata": {
        "colab": {
          "base_uri": "https://localhost:8080/"
        },
        "id": "XqbUGuvFG-vc",
        "outputId": "5ccd40ba-f581-4730-bd10-d6582a6075ec"
      },
      "source": [
        "import os\r\n",
        "# Find the latest version of spark 2.0  from http://www-us.apache.org/dist/spark/ and enter as the spark version\r\n",
        "# For example:\r\n",
        "# spark_version = 'spark-3.0.0'\r\n",
        "spark_version = 'spark-3.0.1'\r\n",
        "os.environ['SPARK_VERSION']=spark_version\r\n",
        "\r\n",
        "# Install Spark and Java\r\n",
        "!apt-get update\r\n",
        "!apt-get install openjdk-11-jdk-headless -qq > /dev/null\r\n",
        "!wget -q http://www-us.apache.org/dist/spark/$SPARK_VERSION/$SPARK_VERSION-bin-hadoop2.7.tgz\r\n",
        "!tar xf $SPARK_VERSION-bin-hadoop2.7.tgz\r\n",
        "!pip install -q findspark\r\n",
        "!pip install py4j\r\n",
        "\r\n",
        "# Set Environment Variables\r\n",
        "import os\r\n",
        "os.environ[\"JAVA_HOME\"] = \"/usr/lib/jvm/java-11-openjdk-amd64\"\r\n",
        "os.environ[\"SPARK_HOME\"] = f\"/content/{spark_version}-bin-hadoop2.7\"\r\n",
        "\r\n",
        "# Start a SparkSession\r\n",
        "import findspark\r\n",
        "findspark.init()"
      ],
      "execution_count": null,
      "outputs": [
        {
          "output_type": "stream",
          "text": [
            "\r0% [Working]\r            \rGet:1 http://ppa.launchpad.net/c2d4u.team/c2d4u4.0+/ubuntu bionic InRelease [15.9 kB]\n",
            "\r0% [Connecting to archive.ubuntu.com (91.189.88.152)] [Waiting for headers] [Co\r                                                                               \rGet:2 http://security.ubuntu.com/ubuntu bionic-security InRelease [88.7 kB]\n",
            "\r0% [Connecting to archive.ubuntu.com (91.189.88.152)] [2 InRelease 14.2 kB/88.7\r0% [Waiting for headers] [2 InRelease 88.7 kB/88.7 kB 100%] [Connected to cloud\r                                                                               \rHit:3 http://archive.ubuntu.com/ubuntu bionic InRelease\n",
            "\r                                                                               \rGet:4 http://archive.ubuntu.com/ubuntu bionic-updates InRelease [88.7 kB]\n",
            "\r0% [4 InRelease 15.6 kB/88.7 kB 18%] [Connected to cloud.r-project.org (143.204\r0% [1 InRelease gpgv 15.9 kB] [4 InRelease 15.6 kB/88.7 kB 18%] [Connected to c\r                                                                               \rHit:5 http://ppa.launchpad.net/cran/libgit2/ubuntu bionic InRelease\n",
            "\r0% [1 InRelease gpgv 15.9 kB] [4 InRelease 15.6 kB/88.7 kB 18%] [Waiting for he\r                                                                               \rGet:6 https://cloud.r-project.org/bin/linux/ubuntu bionic-cran40/ InRelease [3,626 B]\n",
            "\r0% [1 InRelease gpgv 15.9 kB] [4 InRelease 47.5 kB/88.7 kB 54%] [6 InRelease 3,\r0% [1 InRelease gpgv 15.9 kB] [4 InRelease 47.5 kB/88.7 kB 54%] [Connecting to \r0% [1 InRelease gpgv 15.9 kB] [Waiting for headers] [Waiting for headers] [Wait\r                                                                               \rHit:7 http://ppa.launchpad.net/graphics-drivers/ppa/ubuntu bionic InRelease\n",
            "Get:8 http://archive.ubuntu.com/ubuntu bionic-backports InRelease [74.6 kB]\n",
            "Ign:9 https://developer.download.nvidia.com/compute/cuda/repos/ubuntu1804/x86_64  InRelease\n",
            "Ign:10 https://developer.download.nvidia.com/compute/machine-learning/repos/ubuntu1804/x86_64  InRelease\n",
            "Hit:11 https://developer.download.nvidia.com/compute/cuda/repos/ubuntu1804/x86_64  Release\n",
            "Hit:12 https://developer.download.nvidia.com/compute/machine-learning/repos/ubuntu1804/x86_64  Release\n",
            "Get:13 http://ppa.launchpad.net/c2d4u.team/c2d4u4.0+/ubuntu bionic/main Sources [1,716 kB]\n",
            "Get:14 http://ppa.launchpad.net/c2d4u.team/c2d4u4.0+/ubuntu bionic/main amd64 Packages [878 kB]\n",
            "Get:15 http://security.ubuntu.com/ubuntu bionic-security/main amd64 Packages [1,890 kB]\n",
            "Get:16 http://archive.ubuntu.com/ubuntu bionic-updates/universe amd64 Packages [2,151 kB]\n",
            "Get:17 http://archive.ubuntu.com/ubuntu bionic-updates/main amd64 Packages [2,321 kB]\n",
            "Fetched 9,227 kB in 2s (4,136 kB/s)\n",
            "Reading package lists... Done\n",
            "Collecting py4j\n",
            "\u001b[?25l  Downloading https://files.pythonhosted.org/packages/30/42/25ad191f311fcdb38b750d49de167abd535e37a144e730a80d7c439d1751/py4j-0.10.9.1-py2.py3-none-any.whl (198kB)\n",
            "\u001b[K     |████████████████████████████████| 204kB 11.9MB/s \n",
            "\u001b[?25hInstalling collected packages: py4j\n",
            "Successfully installed py4j-0.10.9.1\n"
          ],
          "name": "stdout"
        }
      ]
    },
    {
      "cell_type": "code",
      "metadata": {
        "colab": {
          "base_uri": "https://localhost:8080/"
        },
        "id": "cHE48OUZHEzI",
        "outputId": "fc0e2a44-f4dc-4e62-e9f7-8ab2e4b27ba6"
      },
      "source": [
        "!wget https://jdbc.postgresql.org/download/postgresql-42.2.16.jar"
      ],
      "execution_count": null,
      "outputs": [
        {
          "output_type": "stream",
          "text": [
            "--2021-01-26 09:53:39--  https://jdbc.postgresql.org/download/postgresql-42.2.16.jar\n",
            "Resolving jdbc.postgresql.org (jdbc.postgresql.org)... 72.32.157.228, 2001:4800:3e1:1::228\n",
            "Connecting to jdbc.postgresql.org (jdbc.postgresql.org)|72.32.157.228|:443... connected.\n",
            "HTTP request sent, awaiting response... 200 OK\n",
            "Length: 1002883 (979K) [application/java-archive]\n",
            "Saving to: ‘postgresql-42.2.16.jar’\n",
            "\n",
            "postgresql-42.2.16. 100%[===================>] 979.38K  1.67MB/s    in 0.6s    \n",
            "\n",
            "2021-01-26 09:53:40 (1.67 MB/s) - ‘postgresql-42.2.16.jar’ saved [1002883/1002883]\n",
            "\n"
          ],
          "name": "stdout"
        }
      ]
    },
    {
      "cell_type": "code",
      "metadata": {
        "id": "wW1jdnHHHE-b"
      },
      "source": [
        "from pyspark.sql import SparkSession\r\n",
        "spark = SparkSession.builder.appName(\"BigData-Challenge\").config(\"spark.driver.extraClassPath\",\"/content/postgresql-42.2.16.jar\").getOrCreate()"
      ],
      "execution_count": null,
      "outputs": []
    },
    {
      "cell_type": "code",
      "metadata": {
        "colab": {
          "base_uri": "https://localhost:8080/"
        },
        "id": "lgpkLz5cHFBa",
        "outputId": "27356c47-31a5-4d39-b6dc-3eeb9bdd1d42"
      },
      "source": [
        "from pyspark import SparkFiles\r\n",
        "url = \"https://s3.amazonaws.com/amazon-reviews-pds/tsv/amazon_reviews_us_Camera_v1_00.tsv.gz\"\r\n",
        "spark.sparkContext.addFile(url)\r\n",
        "df = spark.read.option(\"encoding\", \"UTF-8\").csv(SparkFiles.get(\"\"), sep=\"\\t\", header=True, inferSchema=True)\r\n",
        "df.show()"
      ],
      "execution_count": null,
      "outputs": [
        {
          "output_type": "stream",
          "text": [
            "+-----------+-----------+--------------+----------+--------------+--------------------+----------------+-----------+-------------+-----------+----+-----------------+--------------------+--------------------+-----------+\n",
            "|marketplace|customer_id|     review_id|product_id|product_parent|       product_title|product_category|star_rating|helpful_votes|total_votes|vine|verified_purchase|     review_headline|         review_body|review_date|\n",
            "+-----------+-----------+--------------+----------+--------------+--------------------+----------------+-----------+-------------+-----------+----+-----------------+--------------------+--------------------+-----------+\n",
            "|         US|    2975964|R1NBG94582SJE2|B00I01JQJM|     860486164|GoPro Rechargeabl...|          Camera|          5|            0|          0|   N|                Y|          Five Stars|                  ok| 2015-08-31|\n",
            "|         US|   23526356|R273DCA6Y0H9V7|B00TCO0ZAA|     292641483|Professional 58mm...|          Camera|          5|            0|          0|   N|                Y|          Love it!!!|Perfect, even stu...| 2015-08-31|\n",
            "|         US|   52764145| RQVOXO7WUOFK6|B00B7733E0|      75825744|Spy Tec Z12 Motio...|          Camera|          2|            1|          1|   N|                Y|Another Motion De...|If the words, &#3...| 2015-08-31|\n",
            "|         US|   47348933|R1KWKSF21PO6HO|B006ZN4U34|     789352955|Celestron UpClose...|          Camera|          5|            0|          0|   N|                Y|Exactly what I wa...|Exactly what I wa...| 2015-08-31|\n",
            "|         US|   33680700|R38H3UO1J190GI|B00HUEBGMU|      19067902|Vidpro XM-L Wired...|          Camera|          5|            1|          1|   N|                Y|Good mic at a Goo...|I will look past ...| 2015-08-31|\n",
            "|         US|   30301059|R3NPIFKLR19NQA|B008MW6Y12|     597683407|NIX 8 inch Hi-Res...|          Camera|          3|            0|          0|   N|                Y|The controls are ...|The controls are ...| 2015-08-31|\n",
            "|         US|   28282645|R3MBE6UCH3435E|B00TE8XKIS|      35563334|Polaroid ZIP Mobi...|          Camera|          3|            8|          8|   N|                N|Fun toy for makin...|The printer came ...| 2015-08-31|\n",
            "|         US|     502818|R2E7A4FF0PVY5Q|B00ZKDUFBQ|     555190742|GeekPro 2.0-Inch ...|          Camera|          5|            0|          1|   N|                Y|          Five Stars|Great camera for ...| 2015-08-31|\n",
            "|         US|    1481233| R3R8JDQ2BF4NM|B010BZ7S2Q|     129544315|Sony HDR-AZ1VR Ac...|          Camera|          5|            0|          2|   N|                Y|          Five Stars|Product is very g...| 2015-08-31|\n",
            "|         US|   27885926|R1YND4BS823GN5|B00HRXSSRA|     708418657|ChiliPower DMW-BL...|          Camera|          1|            0|          0|   N|                Y|              Sucky.|Lasted a few hour...| 2015-08-31|\n",
            "|         US|    3183883|R2TZNSA18V7YF6|B005C95NM4|     246957815|Zeikos Deluxe Fla...|          Camera|          4|            1|          1|   N|                Y|Hand Hold Bracket...|I needed the flas...| 2015-08-31|\n",
            "|         US|   23208852|R22ZVRDPPXIDNL|B00LBIBYBE|     746593019|  GoPro Hero Filters|          Camera|          5|            0|          0|   N|                Y|          Five Stars|Use these all the...| 2015-08-31|\n",
            "|         US|   11438825|R1F4O6WOO2W461|B00X3HIM2U|     444991975|Neewer Meike MK-X...|          Camera|          3|            3|          3|   N|                Y|Can't grip the ba...|Same issue as oth...| 2015-08-31|\n",
            "|         US|   50399582| RT1KLS3QSJNUT|B00KDVQF8W|     304104050|LB Photography Ba...|          Camera|          5|            4|          4|   N|                Y|Super pleased wit...|Super pleased wit...| 2015-08-31|\n",
            "|         US|   36700181|R222VYJL5K5IRS|B00GUZEZL4|     472875794|Waterproof Camera...|          Camera|          5|            0|          0|   N|                Y|    Excellent value!|These float wrist...| 2015-08-31|\n",
            "|         US|   47818374|R31LUR7M4PQOLU|B00FB1TBKS|     710827451|Ecolink Z-Wave PI...|          Camera|          5|            0|          0|   N|                Y|       great product|very good on batt...| 2015-08-31|\n",
            "|         US|   35272750|R1OD3T3Q042LUQ|B00GVMLPT6|     269896170|FotoTech Male to ...|          Camera|          2|            0|          0|   N|                Y|           Two Stars|im not happy, the...| 2015-08-31|\n",
            "|         US|   11736306|R2QT68OZTT2YKE|B00L8827BI|     145946775|Nikon D3200 Ultim...|          Camera|          5|            0|          0|   N|                Y|          Five Stars|It is a very good...| 2015-08-31|\n",
            "|         US|   52377008| RMFQF59FG3TD1|B00SIM78R0|     972011051|D-Link Wireless D...|          Camera|          4|            0|          0|   N|                Y|Nice camera, not ...|Nice camera for t...| 2015-08-31|\n",
            "|         US|    6465510|R1QNYFW6G31R5T|B00EDCZKJ2|     258297575|ZINK Phone Photo ...|          Camera|          1|            1|          3|   N|                N|        Never Agian.|If I could leave ...| 2015-08-31|\n",
            "+-----------+-----------+--------------+----------+--------------+--------------------+----------------+-----------+-------------+-----------+----+-----------------+--------------------+--------------------+-----------+\n",
            "only showing top 20 rows\n",
            "\n"
          ],
          "name": "stdout"
        }
      ]
    },
    {
      "cell_type": "code",
      "metadata": {
        "id": "GTP1mnF7HFEB"
      },
      "source": [
        "from pyspark.sql.functions import to_date"
      ],
      "execution_count": null,
      "outputs": []
    },
    {
      "cell_type": "code",
      "metadata": {
        "colab": {
          "base_uri": "https://localhost:8080/"
        },
        "id": "MJysgLaLHFGl",
        "outputId": "e164e473-726a-4798-822c-958319c771a4"
      },
      "source": [
        "# Create the vine_table. DataFrame\r\n",
        "vine_df = df.select(['review_id','star_rating','helpful_votes','total_votes','vine','verified_purchase'])\r\n",
        "vine_df.show()"
      ],
      "execution_count": null,
      "outputs": [
        {
          "output_type": "stream",
          "text": [
            "+--------------+-----------+-------------+-----------+----+-----------------+\n",
            "|     review_id|star_rating|helpful_votes|total_votes|vine|verified_purchase|\n",
            "+--------------+-----------+-------------+-----------+----+-----------------+\n",
            "|R1NBG94582SJE2|          5|            0|          0|   N|                Y|\n",
            "|R273DCA6Y0H9V7|          5|            0|          0|   N|                Y|\n",
            "| RQVOXO7WUOFK6|          2|            1|          1|   N|                Y|\n",
            "|R1KWKSF21PO6HO|          5|            0|          0|   N|                Y|\n",
            "|R38H3UO1J190GI|          5|            1|          1|   N|                Y|\n",
            "|R3NPIFKLR19NQA|          3|            0|          0|   N|                Y|\n",
            "|R3MBE6UCH3435E|          3|            8|          8|   N|                N|\n",
            "|R2E7A4FF0PVY5Q|          5|            0|          1|   N|                Y|\n",
            "| R3R8JDQ2BF4NM|          5|            0|          2|   N|                Y|\n",
            "|R1YND4BS823GN5|          1|            0|          0|   N|                Y|\n",
            "|R2TZNSA18V7YF6|          4|            1|          1|   N|                Y|\n",
            "|R22ZVRDPPXIDNL|          5|            0|          0|   N|                Y|\n",
            "|R1F4O6WOO2W461|          3|            3|          3|   N|                Y|\n",
            "| RT1KLS3QSJNUT|          5|            4|          4|   N|                Y|\n",
            "|R222VYJL5K5IRS|          5|            0|          0|   N|                Y|\n",
            "|R31LUR7M4PQOLU|          5|            0|          0|   N|                Y|\n",
            "|R1OD3T3Q042LUQ|          2|            0|          0|   N|                Y|\n",
            "|R2QT68OZTT2YKE|          5|            0|          0|   N|                Y|\n",
            "| RMFQF59FG3TD1|          4|            0|          0|   N|                Y|\n",
            "|R1QNYFW6G31R5T|          1|            1|          3|   N|                N|\n",
            "+--------------+-----------+-------------+-----------+----+-----------------+\n",
            "only showing top 20 rows\n",
            "\n"
          ],
          "name": "stdout"
        }
      ]
    },
    {
      "cell_type": "code",
      "metadata": {
        "colab": {
          "base_uri": "https://localhost:8080/"
        },
        "id": "La-pqKVgHFJN",
        "outputId": "a8bd5de4-91e7-48a7-b2d0-92deaf3414e6"
      },
      "source": [
        "vine_filter = vine_df.filter(\"total_votes>=20\").select(['review_id','star_rating','helpful_votes','total_votes','vine','verified_purchase'])\r\n",
        "vine_filter.show()"
      ],
      "execution_count": null,
      "outputs": [
        {
          "output_type": "stream",
          "text": [
            "+--------------+-----------+-------------+-----------+----+-----------------+\n",
            "|     review_id|star_rating|helpful_votes|total_votes|vine|verified_purchase|\n",
            "+--------------+-----------+-------------+-----------+----+-----------------+\n",
            "|R3FJ319XA6ZAUQ|          2|           21|         25|   N|                Y|\n",
            "| R6HRF25HUMIIE|          5|           24|         24|   N|                Y|\n",
            "|R2CTAK3APOFKZU|          5|           37|         38|   N|                N|\n",
            "|R1WQZB0CAEPQBU|          2|           85|        128|   N|                N|\n",
            "| RHZDSA48HVRVK|          5|           49|         86|   N|                N|\n",
            "|R190J2PDOZ5GVK|          3|           36|         51|   N|                Y|\n",
            "|R1WZSWWOTN58OP|          5|           73|         77|   N|                Y|\n",
            "|R3EM8C9CKA6GPK|          2|           41|        115|   N|                N|\n",
            "|R29THVJFO35FZA|          5|           48|         50|   N|                Y|\n",
            "|R3V8FKXIHBLWEL|          5|           91|        108|   N|                Y|\n",
            "|R3JIIPQ8F0P7QS|          4|           22|         23|   N|                Y|\n",
            "|R3T9SAE2GZ2CN8|          5|           24|         28|   N|                Y|\n",
            "|R2O9VZEU64LFXH|          4|          115|        136|   N|                Y|\n",
            "|R3NET50AD1HMUD|          3|           27|         32|   N|                Y|\n",
            "| R79ZW8DU56QV6|          1|           43|         47|   N|                N|\n",
            "| RQN1N103PBM22|          1|           61|         69|   N|                Y|\n",
            "|R28VHGS18B0YXC|          5|           35|         42|   N|                N|\n",
            "|R3BWM499VCMGS7|          5|           48|         52|   N|                Y|\n",
            "|R36SDHRTJ9VEM8|          5|           32|         34|   N|                N|\n",
            "|R2ILOJ2MACX1GM|          5|           37|         63|   N|                N|\n",
            "+--------------+-----------+-------------+-----------+----+-----------------+\n",
            "only showing top 20 rows\n",
            "\n"
          ],
          "name": "stdout"
        }
      ]
    },
    {
      "cell_type": "code",
      "metadata": {
        "colab": {
          "base_uri": "https://localhost:8080/"
        },
        "id": "AJ5sZEQLHFOC",
        "outputId": "52c075a1-2290-47dc-e71d-558ad499c20f"
      },
      "source": [
        "vine_filter = vine_filter.filter(\"helpful_votes/total_votes>=0.5\").select(['review_id','star_rating','helpful_votes','total_votes','vine','verified_purchase'])\r\n",
        "vine_filter.show()\r\n"
      ],
      "execution_count": null,
      "outputs": [
        {
          "output_type": "stream",
          "text": [
            "+--------------+-----------+-------------+-----------+----+-----------------+\n",
            "|     review_id|star_rating|helpful_votes|total_votes|vine|verified_purchase|\n",
            "+--------------+-----------+-------------+-----------+----+-----------------+\n",
            "|R3FJ319XA6ZAUQ|          2|           21|         25|   N|                Y|\n",
            "| R6HRF25HUMIIE|          5|           24|         24|   N|                Y|\n",
            "|R2CTAK3APOFKZU|          5|           37|         38|   N|                N|\n",
            "|R1WQZB0CAEPQBU|          2|           85|        128|   N|                N|\n",
            "| RHZDSA48HVRVK|          5|           49|         86|   N|                N|\n",
            "|R190J2PDOZ5GVK|          3|           36|         51|   N|                Y|\n",
            "|R1WZSWWOTN58OP|          5|           73|         77|   N|                Y|\n",
            "|R29THVJFO35FZA|          5|           48|         50|   N|                Y|\n",
            "|R3V8FKXIHBLWEL|          5|           91|        108|   N|                Y|\n",
            "|R3JIIPQ8F0P7QS|          4|           22|         23|   N|                Y|\n",
            "|R3T9SAE2GZ2CN8|          5|           24|         28|   N|                Y|\n",
            "|R2O9VZEU64LFXH|          4|          115|        136|   N|                Y|\n",
            "|R3NET50AD1HMUD|          3|           27|         32|   N|                Y|\n",
            "| R79ZW8DU56QV6|          1|           43|         47|   N|                N|\n",
            "| RQN1N103PBM22|          1|           61|         69|   N|                Y|\n",
            "|R28VHGS18B0YXC|          5|           35|         42|   N|                N|\n",
            "|R3BWM499VCMGS7|          5|           48|         52|   N|                Y|\n",
            "|R36SDHRTJ9VEM8|          5|           32|         34|   N|                N|\n",
            "|R2ILOJ2MACX1GM|          5|           37|         63|   N|                N|\n",
            "|R2C9SAXAPMNSAI|          5|           44|         47|   N|                N|\n",
            "+--------------+-----------+-------------+-----------+----+-----------------+\n",
            "only showing top 20 rows\n",
            "\n"
          ],
          "name": "stdout"
        }
      ]
    },
    {
      "cell_type": "code",
      "metadata": {
        "colab": {
          "base_uri": "https://localhost:8080/"
        },
        "id": "-SOIbkNbXMLP",
        "outputId": "36635846-4035-445e-ed7c-6f4e5e06c6e5"
      },
      "source": [
        "vine_paid = vine_filter.filter(vine_filter[\"vine\"]== \"Y\")\r\n",
        "vine_paid.show()"
      ],
      "execution_count": null,
      "outputs": [
        {
          "output_type": "stream",
          "text": [
            "+--------------+-----------+-------------+-----------+----+-----------------+\n",
            "|     review_id|star_rating|helpful_votes|total_votes|vine|verified_purchase|\n",
            "+--------------+-----------+-------------+-----------+----+-----------------+\n",
            "|R37L6YZDX0P3J9|          1|           28|         35|   Y|                N|\n",
            "|R2JT4XRQO2KASL|          5|           38|         41|   Y|                N|\n",
            "|R10XRAOBFFSTL2|          5|           44|         47|   Y|                N|\n",
            "| R1X8F3R1K1SF5|          2|           30|         31|   Y|                N|\n",
            "|R326QV66CKBB43|          4|          127|        139|   Y|                N|\n",
            "| RGXLFTR31J561|          5|           29|         34|   Y|                N|\n",
            "|R2ZS3WCJYUDQH0|          3|          101|        115|   Y|                N|\n",
            "|R31771VBPRDVJS|          4|           75|         83|   Y|                N|\n",
            "| R8O8KM73GO190|          5|           21|         28|   Y|                N|\n",
            "| RPU1GURA1NOT0|          5|           33|         35|   Y|                N|\n",
            "|R1LSBTTOR7MC2T|          5|          364|        373|   Y|                N|\n",
            "|R3M6G50741A8BZ|          5|           24|         30|   Y|                N|\n",
            "|R23USDQ7OW3CWH|          5|           58|         65|   Y|                N|\n",
            "|R21XG60MOE370I|          5|           95|        105|   Y|                N|\n",
            "|R38IT6Q7UDG0AC|          5|           52|         65|   Y|                N|\n",
            "|R1ZNRVVBZEZPMT|          2|           64|         74|   Y|                N|\n",
            "|R2UJ5PT023G3XU|          4|           29|         38|   Y|                N|\n",
            "|R2ZUSNUDLAG4HR|          5|           20|         23|   Y|                N|\n",
            "| RYCSFTDYMJCXV|          2|           52|         60|   Y|                N|\n",
            "|R2NKND0YUD25RE|          5|           39|         41|   Y|                N|\n",
            "+--------------+-----------+-------------+-----------+----+-----------------+\n",
            "only showing top 20 rows\n",
            "\n"
          ],
          "name": "stdout"
        }
      ]
    },
    {
      "cell_type": "code",
      "metadata": {
        "colab": {
          "base_uri": "https://localhost:8080/"
        },
        "id": "8aB6zDpiXMXo",
        "outputId": "8f456948-dc68-4e2e-b417-da541051f0c5"
      },
      "source": [
        "vine_nonpaid = vine_filter.filter(vine_filter[\"vine\"]== \"N\")\r\n",
        "vine_nonpaid.show()"
      ],
      "execution_count": null,
      "outputs": [
        {
          "output_type": "stream",
          "text": [
            "+--------------+-----------+-------------+-----------+----+-----------------+\n",
            "|     review_id|star_rating|helpful_votes|total_votes|vine|verified_purchase|\n",
            "+--------------+-----------+-------------+-----------+----+-----------------+\n",
            "|R3FJ319XA6ZAUQ|          2|           21|         25|   N|                Y|\n",
            "| R6HRF25HUMIIE|          5|           24|         24|   N|                Y|\n",
            "|R2CTAK3APOFKZU|          5|           37|         38|   N|                N|\n",
            "|R1WQZB0CAEPQBU|          2|           85|        128|   N|                N|\n",
            "| RHZDSA48HVRVK|          5|           49|         86|   N|                N|\n",
            "|R190J2PDOZ5GVK|          3|           36|         51|   N|                Y|\n",
            "|R1WZSWWOTN58OP|          5|           73|         77|   N|                Y|\n",
            "|R29THVJFO35FZA|          5|           48|         50|   N|                Y|\n",
            "|R3V8FKXIHBLWEL|          5|           91|        108|   N|                Y|\n",
            "|R3JIIPQ8F0P7QS|          4|           22|         23|   N|                Y|\n",
            "|R3T9SAE2GZ2CN8|          5|           24|         28|   N|                Y|\n",
            "|R2O9VZEU64LFXH|          4|          115|        136|   N|                Y|\n",
            "|R3NET50AD1HMUD|          3|           27|         32|   N|                Y|\n",
            "| R79ZW8DU56QV6|          1|           43|         47|   N|                N|\n",
            "| RQN1N103PBM22|          1|           61|         69|   N|                Y|\n",
            "|R28VHGS18B0YXC|          5|           35|         42|   N|                N|\n",
            "|R3BWM499VCMGS7|          5|           48|         52|   N|                Y|\n",
            "|R36SDHRTJ9VEM8|          5|           32|         34|   N|                N|\n",
            "|R2ILOJ2MACX1GM|          5|           37|         63|   N|                N|\n",
            "|R2C9SAXAPMNSAI|          5|           44|         47|   N|                N|\n",
            "+--------------+-----------+-------------+-----------+----+-----------------+\n",
            "only showing top 20 rows\n",
            "\n"
          ],
          "name": "stdout"
        }
      ]
    },
    {
      "cell_type": "code",
      "metadata": {
        "colab": {
          "base_uri": "https://localhost:8080/"
        },
        "id": "B2koLKbGZ_Cy",
        "outputId": "5e81f372-4d6f-4dc7-e08f-14a4faa77656"
      },
      "source": [
        "vine_paid.count()"
      ],
      "execution_count": null,
      "outputs": [
        {
          "output_type": "execute_result",
          "data": {
            "text/plain": [
              "607"
            ]
          },
          "metadata": {
            "tags": []
          },
          "execution_count": 57
        }
      ]
    },
    {
      "cell_type": "code",
      "metadata": {
        "colab": {
          "base_uri": "https://localhost:8080/"
        },
        "id": "OOn3CKBSZ_IU",
        "outputId": "dff29e7f-3732-410e-ac07-fbecd9f7de4a"
      },
      "source": [
        "vine_nonpaid.count()"
      ],
      "execution_count": null,
      "outputs": [
        {
          "output_type": "execute_result",
          "data": {
            "text/plain": [
              "50522"
            ]
          },
          "metadata": {
            "tags": []
          },
          "execution_count": 58
        }
      ]
    },
    {
      "cell_type": "code",
      "metadata": {
        "colab": {
          "base_uri": "https://localhost:8080/"
        },
        "id": "RnI-_zF2aZ-z",
        "outputId": "7cbbb6be-6c3f-478d-9e87-59014fa66e12"
      },
      "source": [
        "vine_paid_five_star = vine_paid.filter(vine_paid[\"star_rating\"]== \"5\")\r\n",
        "vine_paid_five_star.show()"
      ],
      "execution_count": null,
      "outputs": [
        {
          "output_type": "stream",
          "text": [
            "+--------------+-----------+-------------+-----------+----+-----------------+\n",
            "|     review_id|star_rating|helpful_votes|total_votes|vine|verified_purchase|\n",
            "+--------------+-----------+-------------+-----------+----+-----------------+\n",
            "|R2JT4XRQO2KASL|          5|           38|         41|   Y|                N|\n",
            "|R10XRAOBFFSTL2|          5|           44|         47|   Y|                N|\n",
            "| RGXLFTR31J561|          5|           29|         34|   Y|                N|\n",
            "| R8O8KM73GO190|          5|           21|         28|   Y|                N|\n",
            "| RPU1GURA1NOT0|          5|           33|         35|   Y|                N|\n",
            "|R1LSBTTOR7MC2T|          5|          364|        373|   Y|                N|\n",
            "|R3M6G50741A8BZ|          5|           24|         30|   Y|                N|\n",
            "|R23USDQ7OW3CWH|          5|           58|         65|   Y|                N|\n",
            "|R21XG60MOE370I|          5|           95|        105|   Y|                N|\n",
            "|R38IT6Q7UDG0AC|          5|           52|         65|   Y|                N|\n",
            "|R2ZUSNUDLAG4HR|          5|           20|         23|   Y|                N|\n",
            "|R2NKND0YUD25RE|          5|           39|         41|   Y|                N|\n",
            "|R1K658DQY1E28L|          5|           36|         43|   Y|                N|\n",
            "|R2UXOPYWTN7AGP|          5|           19|         21|   Y|                N|\n",
            "| RJ6HARMVOVVHH|          5|           19|         25|   Y|                N|\n",
            "|R2HCK1N56I0Q6I|          5|          294|        312|   Y|                N|\n",
            "| RUKMI5BEUS4QQ|          5|           33|         36|   Y|                N|\n",
            "|R2PY0MHRSCBHJX|          5|           37|         40|   Y|                N|\n",
            "| RYSXSP24LSO0N|          5|           17|         21|   Y|                N|\n",
            "| RP6R3JU8PF26Q|          5|          621|        687|   Y|                N|\n",
            "+--------------+-----------+-------------+-----------+----+-----------------+\n",
            "only showing top 20 rows\n",
            "\n"
          ],
          "name": "stdout"
        }
      ]
    },
    {
      "cell_type": "code",
      "metadata": {
        "colab": {
          "base_uri": "https://localhost:8080/"
        },
        "id": "XGCAu-a0aaH3",
        "outputId": "65942557-6be0-4fe6-8678-88d302aceb5e"
      },
      "source": [
        "vine_nonpaid_five_star = vine_nonpaid.filter(vine_nonpaid[\"star_rating\"]== \"5\")\r\n",
        "vine_nonpaid_five_star.show()"
      ],
      "execution_count": null,
      "outputs": [
        {
          "output_type": "stream",
          "text": [
            "+--------------+-----------+-------------+-----------+----+-----------------+\n",
            "|     review_id|star_rating|helpful_votes|total_votes|vine|verified_purchase|\n",
            "+--------------+-----------+-------------+-----------+----+-----------------+\n",
            "| R6HRF25HUMIIE|          5|           24|         24|   N|                Y|\n",
            "|R2CTAK3APOFKZU|          5|           37|         38|   N|                N|\n",
            "| RHZDSA48HVRVK|          5|           49|         86|   N|                N|\n",
            "|R1WZSWWOTN58OP|          5|           73|         77|   N|                Y|\n",
            "|R29THVJFO35FZA|          5|           48|         50|   N|                Y|\n",
            "|R3V8FKXIHBLWEL|          5|           91|        108|   N|                Y|\n",
            "|R3T9SAE2GZ2CN8|          5|           24|         28|   N|                Y|\n",
            "|R28VHGS18B0YXC|          5|           35|         42|   N|                N|\n",
            "|R3BWM499VCMGS7|          5|           48|         52|   N|                Y|\n",
            "|R36SDHRTJ9VEM8|          5|           32|         34|   N|                N|\n",
            "|R2ILOJ2MACX1GM|          5|           37|         63|   N|                N|\n",
            "|R2C9SAXAPMNSAI|          5|           44|         47|   N|                N|\n",
            "| RQH8VUT3L46VS|          5|           29|         33|   N|                Y|\n",
            "|R2FDEPNQCD8OZI|          5|          109|        125|   N|                Y|\n",
            "|R2WEFZNX9XGHDX|          5|           24|         27|   N|                N|\n",
            "|R1AK411TUN72F6|          5|           23|         23|   N|                N|\n",
            "|R1I4S38HQGISB6|          5|           31|         33|   N|                Y|\n",
            "|R3IU7BKYLQ3S1F|          5|           22|         22|   N|                Y|\n",
            "| RM18IGVTSO06I|          5|           24|         24|   N|                Y|\n",
            "|R1WYS5E8B26AB8|          5|           32|         38|   N|                Y|\n",
            "+--------------+-----------+-------------+-----------+----+-----------------+\n",
            "only showing top 20 rows\n",
            "\n"
          ],
          "name": "stdout"
        }
      ]
    },
    {
      "cell_type": "code",
      "metadata": {
        "colab": {
          "base_uri": "https://localhost:8080/"
        },
        "id": "QRaZLwOAbAZ6",
        "outputId": "dbf8925b-fcd9-4bc4-b4cf-f492b9101579"
      },
      "source": [
        "vine_paid_five_star.count()"
      ],
      "execution_count": null,
      "outputs": [
        {
          "output_type": "execute_result",
          "data": {
            "text/plain": [
              "257"
            ]
          },
          "metadata": {
            "tags": []
          },
          "execution_count": 61
        }
      ]
    },
    {
      "cell_type": "code",
      "metadata": {
        "colab": {
          "base_uri": "https://localhost:8080/"
        },
        "id": "LMT4CRbKbAhY",
        "outputId": "4541adc1-c6a0-4b96-a89d-8331a14b5fdd"
      },
      "source": [
        "vine_nonpaid_five_star.count()"
      ],
      "execution_count": null,
      "outputs": [
        {
          "output_type": "execute_result",
          "data": {
            "text/plain": [
              "25220"
            ]
          },
          "metadata": {
            "tags": []
          },
          "execution_count": 62
        }
      ]
    },
    {
      "cell_type": "code",
      "metadata": {
        "colab": {
          "base_uri": "https://localhost:8080/"
        },
        "id": "jaL6VPoubTaj",
        "outputId": "9006ca45-502c-45ae-ff9d-f829c90c984e"
      },
      "source": [
        "vine_paid_five_star.count()/vine_paid.count()"
      ],
      "execution_count": null,
      "outputs": [
        {
          "output_type": "execute_result",
          "data": {
            "text/plain": [
              "0.4233937397034596"
            ]
          },
          "metadata": {
            "tags": []
          },
          "execution_count": 63
        }
      ]
    },
    {
      "cell_type": "code",
      "metadata": {
        "colab": {
          "base_uri": "https://localhost:8080/"
        },
        "id": "upIuMJ1KbTiJ",
        "outputId": "25f1b9c9-e1bd-43ac-d329-a74c357611b3"
      },
      "source": [
        "vine_nonpaid_five_star.count()/vine_nonpaid.count()"
      ],
      "execution_count": null,
      "outputs": [
        {
          "output_type": "execute_result",
          "data": {
            "text/plain": [
              "0.4991884723486798"
            ]
          },
          "metadata": {
            "tags": []
          },
          "execution_count": 64
        }
      ]
    }
  ]
}